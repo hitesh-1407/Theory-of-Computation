{
 "cells": [
  {
   "cell_type": "markdown",
   "metadata": {},
   "source": [
    "# Mealy two's compliment"
   ]
  },
  {
   "cell_type": "code",
   "execution_count": 7,
   "metadata": {},
   "outputs": [],
   "source": [
    "dfa={0:{'0':(0,'0'),'1':(1,'1')},1:{'0':(1,'1'),'1':(1,'0')}}"
   ]
  },
  {
   "cell_type": "code",
   "execution_count": 11,
   "metadata": {},
   "outputs": [],
   "source": [
    "def abc():\n",
    "    stri=input(\"enter a string\\n\")\n",
    "    print(stri)\n",
    "    s=stri[::-1]\n",
    "    stry=''\n",
    "    current_state=0\n",
    "    for i in s:\n",
    "        x=current_state\n",
    "        current_state=dfa[current_state][i][0]\n",
    "        stry=stry+dfa[x][i][1]\n",
    "    print(stry[::-1])"
   ]
  },
  {
   "cell_type": "code",
   "execution_count": 12,
   "metadata": {},
   "outputs": [
    {
     "name": "stdout",
     "output_type": "stream",
     "text": [
      "enter a string\n",
      "1100\n",
      "1100\n",
      "0100\n"
     ]
    }
   ],
   "source": [
    "abc()"
   ]
  },
  {
   "cell_type": "code",
   "execution_count": 13,
   "metadata": {},
   "outputs": [
    {
     "name": "stdout",
     "output_type": "stream",
     "text": [
      "enter a string\n",
      "0011\n",
      "0011\n",
      "1101\n"
     ]
    }
   ],
   "source": [
    "abc()"
   ]
  },
  {
   "cell_type": "code",
   "execution_count": 14,
   "metadata": {},
   "outputs": [
    {
     "name": "stdout",
     "output_type": "stream",
     "text": [
      "enter a string\n",
      "1001\n",
      "1001\n",
      "0111\n"
     ]
    }
   ],
   "source": [
    "abc()"
   ]
  },
  {
   "cell_type": "code",
   "execution_count": 15,
   "metadata": {},
   "outputs": [
    {
     "name": "stdout",
     "output_type": "stream",
     "text": [
      "enter a string\n",
      "0110\n",
      "0110\n",
      "1010\n"
     ]
    }
   ],
   "source": [
    "abc()"
   ]
  },
  {
   "cell_type": "code",
   "execution_count": 16,
   "metadata": {},
   "outputs": [
    {
     "name": "stdout",
     "output_type": "stream",
     "text": [
      "enter a string\n",
      "0000\n",
      "0000\n",
      "0000\n"
     ]
    }
   ],
   "source": [
    "abc()"
   ]
  },
  {
   "cell_type": "code",
   "execution_count": 17,
   "metadata": {},
   "outputs": [
    {
     "name": "stdout",
     "output_type": "stream",
     "text": [
      "enter a string\n",
      "1111\n",
      "1111\n",
      "0001\n"
     ]
    }
   ],
   "source": [
    "abc()"
   ]
  },
  {
   "cell_type": "code",
   "execution_count": null,
   "metadata": {},
   "outputs": [],
   "source": []
  },
  {
   "cell_type": "code",
   "execution_count": null,
   "metadata": {},
   "outputs": [],
   "source": []
  },
  {
   "cell_type": "markdown",
   "metadata": {},
   "source": [
    "# Mealy for even or odd"
   ]
  },
  {
   "cell_type": "code",
   "execution_count": 18,
   "metadata": {},
   "outputs": [],
   "source": [
    "dfa1={0:{'0':(0,'even'),'1':(1,'odd')},1:{'0':(1,'odd'),'1':(0,'odd')}}"
   ]
  },
  {
   "cell_type": "code",
   "execution_count": 20,
   "metadata": {},
   "outputs": [],
   "source": [
    "def abc1():\n",
    "    current_state=0\n",
    "    stri=input(\"enter a string\\n\")\n",
    "    print(stri)\n",
    "    for i in stri:\n",
    "        current_state=dfa1[current_state][i][0]\n",
    "    print(dfa1[current_state][i][1])"
   ]
  },
  {
   "cell_type": "code",
   "execution_count": 21,
   "metadata": {},
   "outputs": [
    {
     "name": "stdout",
     "output_type": "stream",
     "text": [
      "enter a string\n",
      "1100\n",
      "1100\n",
      "even\n"
     ]
    }
   ],
   "source": [
    "abc1()"
   ]
  },
  {
   "cell_type": "code",
   "execution_count": 22,
   "metadata": {},
   "outputs": [
    {
     "name": "stdout",
     "output_type": "stream",
     "text": [
      "enter a string\n",
      "0000\n",
      "0000\n",
      "even\n"
     ]
    }
   ],
   "source": [
    "abc1()"
   ]
  },
  {
   "cell_type": "code",
   "execution_count": 23,
   "metadata": {},
   "outputs": [
    {
     "name": "stdout",
     "output_type": "stream",
     "text": [
      "enter a string\n",
      "1111\n",
      "1111\n",
      "odd\n"
     ]
    }
   ],
   "source": [
    "abc1()"
   ]
  },
  {
   "cell_type": "code",
   "execution_count": 24,
   "metadata": {},
   "outputs": [
    {
     "name": "stdout",
     "output_type": "stream",
     "text": [
      "enter a string\n",
      "1010\n",
      "1010\n",
      "even\n"
     ]
    }
   ],
   "source": [
    "abc1()"
   ]
  },
  {
   "cell_type": "code",
   "execution_count": 25,
   "metadata": {},
   "outputs": [
    {
     "name": "stdout",
     "output_type": "stream",
     "text": [
      "enter a string\n",
      "0111\n",
      "0111\n",
      "odd\n"
     ]
    }
   ],
   "source": [
    "abc1()"
   ]
  },
  {
   "cell_type": "code",
   "execution_count": 26,
   "metadata": {},
   "outputs": [
    {
     "name": "stdout",
     "output_type": "stream",
     "text": [
      "enter a string\n",
      "1000\n",
      "1000\n",
      "odd\n"
     ]
    }
   ],
   "source": [
    "abc1()"
   ]
  },
  {
   "cell_type": "code",
   "execution_count": 27,
   "metadata": {},
   "outputs": [
    {
     "name": "stdout",
     "output_type": "stream",
     "text": [
      "enter a string\n",
      "1001\n",
      "1001\n",
      "odd\n"
     ]
    }
   ],
   "source": [
    "abc1()"
   ]
  },
  {
   "cell_type": "markdown",
   "metadata": {},
   "source": [
    "# Mealy Compliment"
   ]
  },
  {
   "cell_type": "code",
   "execution_count": 28,
   "metadata": {},
   "outputs": [],
   "source": [
    "dfa2={0:{'0':(0,'1'),'1':(0,'0')}}"
   ]
  },
  {
   "cell_type": "code",
   "execution_count": 32,
   "metadata": {},
   "outputs": [],
   "source": [
    "def abc2():\n",
    "    current_state=0\n",
    "    stri=input(\"enter a string\\n\")\n",
    "    print(stri)\n",
    "    for i in stri:\n",
    "        current_state=dfa2[current_state][i][0]\n",
    "        print(dfa2[current_state][i][1],end='')\n",
    "    "
   ]
  },
  {
   "cell_type": "code",
   "execution_count": 33,
   "metadata": {},
   "outputs": [
    {
     "name": "stdout",
     "output_type": "stream",
     "text": [
      "enter a string\n",
      "1100\n",
      "1100\n",
      "0011"
     ]
    }
   ],
   "source": [
    "abc2()"
   ]
  },
  {
   "cell_type": "code",
   "execution_count": 34,
   "metadata": {},
   "outputs": [
    {
     "name": "stdout",
     "output_type": "stream",
     "text": [
      "enter a string\n",
      "0011\n",
      "0011\n",
      "1100"
     ]
    }
   ],
   "source": [
    "abc2()"
   ]
  },
  {
   "cell_type": "code",
   "execution_count": 35,
   "metadata": {},
   "outputs": [
    {
     "name": "stdout",
     "output_type": "stream",
     "text": [
      "enter a string\n",
      "1111\n",
      "1111\n",
      "0000"
     ]
    }
   ],
   "source": [
    "abc2()"
   ]
  },
  {
   "cell_type": "code",
   "execution_count": 36,
   "metadata": {},
   "outputs": [
    {
     "name": "stdout",
     "output_type": "stream",
     "text": [
      "enter a string\n",
      "0000\n",
      "0000\n",
      "1111"
     ]
    }
   ],
   "source": [
    "abc2()"
   ]
  },
  {
   "cell_type": "code",
   "execution_count": 37,
   "metadata": {},
   "outputs": [
    {
     "name": "stdout",
     "output_type": "stream",
     "text": [
      "enter a string\n",
      "1\n",
      "1\n",
      "0"
     ]
    }
   ],
   "source": [
    "abc2()"
   ]
  },
  {
   "cell_type": "markdown",
   "metadata": {},
   "source": [
    "# Mealy increment"
   ]
  },
  {
   "cell_type": "code",
   "execution_count": 38,
   "metadata": {},
   "outputs": [],
   "source": [
    "dfa3={0:{'0':(1,'1'),'1':(0,'0')},1:{'0':(1,'0'),'1':(1,'1')}}"
   ]
  },
  {
   "cell_type": "code",
   "execution_count": 39,
   "metadata": {},
   "outputs": [],
   "source": [
    "def abc3():\n",
    "    stry=''\n",
    "    stri=input(\"enter a string\\n\")\n",
    "    print(stri)\n",
    "    s=stri[::-1]\n",
    "    current_state=0\n",
    "    for i in s:\n",
    "        x=current_state\n",
    "        current_state=dfa3[current_state][i][0]\n",
    "        stry=stry+dfa3[x][i][1]\n",
    "    print(stry[::-1])"
   ]
  },
  {
   "cell_type": "code",
   "execution_count": 40,
   "metadata": {},
   "outputs": [
    {
     "name": "stdout",
     "output_type": "stream",
     "text": [
      "enter a string\n",
      "0000\n",
      "0000\n",
      "0001\n"
     ]
    }
   ],
   "source": [
    "abc3()"
   ]
  },
  {
   "cell_type": "code",
   "execution_count": 41,
   "metadata": {},
   "outputs": [
    {
     "name": "stdout",
     "output_type": "stream",
     "text": [
      "enter a string\n",
      "1100\n",
      "1100\n",
      "1101\n"
     ]
    }
   ],
   "source": [
    "abc3()"
   ]
  },
  {
   "cell_type": "code",
   "execution_count": 42,
   "metadata": {},
   "outputs": [
    {
     "name": "stdout",
     "output_type": "stream",
     "text": [
      "enter a string\n",
      "1111\n",
      "1111\n",
      "0000\n"
     ]
    }
   ],
   "source": [
    "abc3()"
   ]
  },
  {
   "cell_type": "code",
   "execution_count": 43,
   "metadata": {},
   "outputs": [
    {
     "name": "stdout",
     "output_type": "stream",
     "text": [
      "enter a string\n",
      "0101\n",
      "0101\n",
      "0110\n"
     ]
    }
   ],
   "source": [
    "abc3()"
   ]
  },
  {
   "cell_type": "code",
   "execution_count": 44,
   "metadata": {},
   "outputs": [
    {
     "name": "stdout",
     "output_type": "stream",
     "text": [
      "enter a string\n",
      "1001\n",
      "1001\n",
      "1010\n"
     ]
    }
   ],
   "source": [
    "abc3()"
   ]
  },
  {
   "cell_type": "code",
   "execution_count": null,
   "metadata": {},
   "outputs": [],
   "source": []
  }
 ],
 "metadata": {
  "kernelspec": {
   "display_name": "Python 3",
   "language": "python",
   "name": "python3"
  },
  "language_info": {
   "codemirror_mode": {
    "name": "ipython",
    "version": 3
   },
   "file_extension": ".py",
   "mimetype": "text/x-python",
   "name": "python",
   "nbconvert_exporter": "python",
   "pygments_lexer": "ipython3",
   "version": "3.7.2"
  }
 },
 "nbformat": 4,
 "nbformat_minor": 2
}
